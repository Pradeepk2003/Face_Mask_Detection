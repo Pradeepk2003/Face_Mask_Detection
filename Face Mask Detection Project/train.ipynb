{
 "cells": [
  {
   "cell_type": "code",
   "execution_count": 1,
   "id": "5f383783-ed7b-484d-a40c-b3f2ef19a08b",
   "metadata": {},
   "outputs": [],
   "source": [
    "from keras.optimizers import RMSprop\n",
    "from keras.preprocessing.image import ImageDataGenerator\n",
    "import cv2\n",
    "from keras.models import Sequential\n",
    "from keras.layers import Conv2D, Input, ZeroPadding2D, BatchNormalization, Activation, MaxPooling2D, Flatten, Dense,Dropout\n",
    "from keras.models import Model, load_model\n",
    "from keras.callbacks import TensorBoard, ModelCheckpoint\n",
    "from sklearn.model_selection import train_test_split\n",
    "from sklearn.metrics import f1_score\n",
    "from sklearn.utils import shuffle\n",
    "import imutils\n",
    "import numpy as np"
   ]
  },
  {
   "cell_type": "code",
   "execution_count": 2,
   "id": "a6d57a54-13fc-44de-93a9-a069d64cc4b8",
   "metadata": {},
   "outputs": [],
   "source": [
    "#Build the neural network:\n",
    "model = Sequential([\n",
    "    Conv2D(100, (3,3), activation='relu', input_shape=(150, 150, 3)),\n",
    "    MaxPooling2D(2,2),\n",
    "    \n",
    "    Conv2D(100, (3,3), activation='relu'),\n",
    "    MaxPooling2D(2,2),\n",
    "    \n",
    "    Flatten(),\n",
    "    Dropout(0.5),\n",
    "    Dense(50, activation='relu'),\n",
    "    Dense(2, activation='softmax')\n",
    "])\n",
    "model.compile(optimizer='adam', loss='binary_crossentropy', metrics=['acc'])"
   ]
  },
  {
   "cell_type": "code",
   "execution_count": 3,
   "id": "51160abf-7939-4ef7-bfcf-3036f4e70674",
   "metadata": {},
   "outputs": [
    {
     "name": "stdout",
     "output_type": "stream",
     "text": [
      "Found 1315 images belonging to 2 classes.\n",
      "Found 194 images belonging to 2 classes.\n"
     ]
    }
   ],
   "source": [
    "TRAINING_DIR = \"./train\"\n",
    "train_datagen = ImageDataGenerator(rescale=1.0/255,\n",
    "                                   rotation_range=40,\n",
    "                                   width_shift_range=0.2,\n",
    "                                   height_shift_range=0.2,\n",
    "                                   shear_range=0.2,\n",
    "                                   zoom_range=0.2,\n",
    "                                   horizontal_flip=True,\n",
    "                                   fill_mode='nearest')\n",
    "\n",
    "train_generator = train_datagen.flow_from_directory(TRAINING_DIR, \n",
    "                                                    batch_size=10, \n",
    "                                                    target_size=(150, 150))\n",
    "VALIDATION_DIR = \"./test\"\n",
    "validation_datagen = ImageDataGenerator(rescale=1.0/255)\n",
    "\n",
    "validation_generator = validation_datagen.flow_from_directory(VALIDATION_DIR, \n",
    "                                                         batch_size=10, \n",
    "                                                         target_size=(150, 150))"
   ]
  },
  {
   "cell_type": "code",
   "execution_count": 4,
   "id": "cdf6e022-64be-4b33-b0fe-1a8b9f3ddfe5",
   "metadata": {},
   "outputs": [],
   "source": [
    "checkpoint = ModelCheckpoint('model2-{epoch:03d}.model',monitor='val_loss',verbose=0,save_best_only=True,mode='auto')"
   ]
  },
  {
   "cell_type": "code",
   "execution_count": 5,
   "id": "71502a69-f4e3-4209-8833-9422e8f8ba2e",
   "metadata": {},
   "outputs": [
    {
     "name": "stderr",
     "output_type": "stream",
     "text": [
      "C:\\Users\\prade\\AppData\\Local\\Temp\\ipykernel_15384\\2387756493.py:1: UserWarning: `Model.fit_generator` is deprecated and will be removed in a future version. Please use `Model.fit`, which supports generators.\n",
      "  history = model.fit_generator(train_generator,\n"
     ]
    },
    {
     "name": "stdout",
     "output_type": "stream",
     "text": [
      "Epoch 1/20\n",
      "132/132 [==============================] - ETA: 0s - loss: 0.5991 - acc: 0.7133INFO:tensorflow:Assets written to: model2-001.model\\assets\n"
     ]
    },
    {
     "name": "stderr",
     "output_type": "stream",
     "text": [
      "INFO:tensorflow:Assets written to: model2-001.model\\assets\n"
     ]
    },
    {
     "name": "stdout",
     "output_type": "stream",
     "text": [
      "132/132 [==============================] - 56s 414ms/step - loss: 0.5991 - acc: 0.7133 - val_loss: 0.2336 - val_acc: 0.9381\n",
      "Epoch 2/20\n",
      "132/132 [==============================] - 53s 399ms/step - loss: 0.3456 - acc: 0.8753 - val_loss: 0.2591 - val_acc: 0.8969\n",
      "Epoch 3/20\n",
      "132/132 [==============================] - ETA: 0s - loss: 0.3070 - acc: 0.8821INFO:tensorflow:Assets written to: model2-003.model\\assets\n"
     ]
    },
    {
     "name": "stderr",
     "output_type": "stream",
     "text": [
      "INFO:tensorflow:Assets written to: model2-003.model\\assets\n"
     ]
    },
    {
     "name": "stdout",
     "output_type": "stream",
     "text": [
      "132/132 [==============================] - 55s 414ms/step - loss: 0.3070 - acc: 0.8821 - val_loss: 0.1104 - val_acc: 0.9433\n",
      "Epoch 4/20\n",
      "132/132 [==============================] - 53s 403ms/step - loss: 0.2907 - acc: 0.8935 - val_loss: 0.1285 - val_acc: 0.9485\n",
      "Epoch 5/20\n",
      "132/132 [==============================] - ETA: 0s - loss: 0.2491 - acc: 0.8966INFO:tensorflow:Assets written to: model2-005.model\\assets\n"
     ]
    },
    {
     "name": "stderr",
     "output_type": "stream",
     "text": [
      "INFO:tensorflow:Assets written to: model2-005.model\\assets\n"
     ]
    },
    {
     "name": "stdout",
     "output_type": "stream",
     "text": [
      "132/132 [==============================] - 57s 428ms/step - loss: 0.2491 - acc: 0.8966 - val_loss: 0.0793 - val_acc: 0.9691\n",
      "Epoch 6/20\n",
      "132/132 [==============================] - ETA: 0s - loss: 0.1946 - acc: 0.9240INFO:tensorflow:Assets written to: model2-006.model\\assets\n"
     ]
    },
    {
     "name": "stderr",
     "output_type": "stream",
     "text": [
      "INFO:tensorflow:Assets written to: model2-006.model\\assets\n"
     ]
    },
    {
     "name": "stdout",
     "output_type": "stream",
     "text": [
      "132/132 [==============================] - 54s 409ms/step - loss: 0.1946 - acc: 0.9240 - val_loss: 0.0642 - val_acc: 0.9948\n",
      "Epoch 7/20\n",
      "132/132 [==============================] - 52s 395ms/step - loss: 0.1986 - acc: 0.9323 - val_loss: 0.1012 - val_acc: 0.9485\n",
      "Epoch 8/20\n",
      "132/132 [==============================] - ETA: 0s - loss: 0.1973 - acc: 0.9300INFO:tensorflow:Assets written to: model2-008.model\\assets\n"
     ]
    },
    {
     "name": "stderr",
     "output_type": "stream",
     "text": [
      "INFO:tensorflow:Assets written to: model2-008.model\\assets\n"
     ]
    },
    {
     "name": "stdout",
     "output_type": "stream",
     "text": [
      "132/132 [==============================] - 54s 408ms/step - loss: 0.1973 - acc: 0.9300 - val_loss: 0.0443 - val_acc: 0.9639\n",
      "Epoch 9/20\n",
      "132/132 [==============================] - 52s 394ms/step - loss: 0.2005 - acc: 0.9376 - val_loss: 0.1355 - val_acc: 0.9433\n",
      "Epoch 10/20\n",
      "132/132 [==============================] - 53s 398ms/step - loss: 0.1838 - acc: 0.9293 - val_loss: 0.1714 - val_acc: 0.9227\n",
      "Epoch 11/20\n",
      "132/132 [==============================] - 53s 397ms/step - loss: 0.2010 - acc: 0.9240 - val_loss: 0.1492 - val_acc: 0.9175\n",
      "Epoch 12/20\n",
      "132/132 [==============================] - 53s 401ms/step - loss: 0.1410 - acc: 0.9498 - val_loss: 0.0588 - val_acc: 0.9742\n",
      "Epoch 13/20\n",
      "132/132 [==============================] - ETA: 0s - loss: 0.1714 - acc: 0.9354INFO:tensorflow:Assets written to: model2-013.model\\assets\n"
     ]
    },
    {
     "name": "stderr",
     "output_type": "stream",
     "text": [
      "INFO:tensorflow:Assets written to: model2-013.model\\assets\n"
     ]
    },
    {
     "name": "stdout",
     "output_type": "stream",
     "text": [
      "132/132 [==============================] - 54s 410ms/step - loss: 0.1714 - acc: 0.9354 - val_loss: 0.0399 - val_acc: 0.9948\n",
      "Epoch 14/20\n",
      "132/132 [==============================] - ETA: 0s - loss: 0.1386 - acc: 0.9521INFO:tensorflow:Assets written to: model2-014.model\\assets\n"
     ]
    },
    {
     "name": "stderr",
     "output_type": "stream",
     "text": [
      "INFO:tensorflow:Assets written to: model2-014.model\\assets\n"
     ]
    },
    {
     "name": "stdout",
     "output_type": "stream",
     "text": [
      "132/132 [==============================] - 54s 408ms/step - loss: 0.1386 - acc: 0.9521 - val_loss: 0.0334 - val_acc: 0.9897\n",
      "Epoch 15/20\n",
      "132/132 [==============================] - 52s 398ms/step - loss: 0.1650 - acc: 0.9475 - val_loss: 0.1283 - val_acc: 0.9072\n",
      "Epoch 16/20\n",
      "132/132 [==============================] - 52s 397ms/step - loss: 0.1495 - acc: 0.9376 - val_loss: 0.1748 - val_acc: 0.9072\n",
      "Epoch 17/20\n",
      "132/132 [==============================] - 53s 399ms/step - loss: 0.1531 - acc: 0.9384 - val_loss: 0.0357 - val_acc: 0.9948\n",
      "Epoch 18/20\n",
      "132/132 [==============================] - 52s 397ms/step - loss: 0.1517 - acc: 0.9422 - val_loss: 0.0878 - val_acc: 0.9639\n",
      "Epoch 19/20\n",
      "132/132 [==============================] - ETA: 0s - loss: 0.1321 - acc: 0.9468INFO:tensorflow:Assets written to: model2-019.model\\assets\n"
     ]
    },
    {
     "name": "stderr",
     "output_type": "stream",
     "text": [
      "INFO:tensorflow:Assets written to: model2-019.model\\assets\n"
     ]
    },
    {
     "name": "stdout",
     "output_type": "stream",
     "text": [
      "132/132 [==============================] - 54s 409ms/step - loss: 0.1321 - acc: 0.9468 - val_loss: 0.0236 - val_acc: 0.9948\n",
      "Epoch 20/20\n",
      "132/132 [==============================] - 52s 396ms/step - loss: 0.1856 - acc: 0.9308 - val_loss: 0.0917 - val_acc: 0.9588\n"
     ]
    }
   ],
   "source": [
    "history = model.fit_generator(train_generator,\n",
    "                              epochs=20,\n",
    "                              validation_data=validation_generator,\n",
    "                              callbacks=[checkpoint])"
   ]
  }
 ],
 "metadata": {
  "kernelspec": {
   "display_name": "Python 3 (ipykernel)",
   "language": "python",
   "name": "python3"
  },
  "language_info": {
   "codemirror_mode": {
    "name": "ipython",
    "version": 3
   },
   "file_extension": ".py",
   "mimetype": "text/x-python",
   "name": "python",
   "nbconvert_exporter": "python",
   "pygments_lexer": "ipython3",
   "version": "3.10.1"
  }
 },
 "nbformat": 4,
 "nbformat_minor": 5
}
